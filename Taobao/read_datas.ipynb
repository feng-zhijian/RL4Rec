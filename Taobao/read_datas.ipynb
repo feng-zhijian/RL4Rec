{
 "cells": [
  {
   "cell_type": "code",
   "execution_count": 1,
   "metadata": {},
   "outputs": [],
   "source": [
    "import pandas as pd\n",
    "import numpy as np\n",
    "import pdb\n",
    "import os\n",
    "# from utility import to_pickled_df, pad_history\n",
    "\n",
    "data_dir = \"./data\""
   ]
  },
  {
   "cell_type": "markdown",
   "metadata": {},
   "source": [
    "### Tools"
   ]
  },
  {
   "cell_type": "code",
   "execution_count": 2,
   "metadata": {},
   "outputs": [],
   "source": [
    "def pad_history(itemlist,length,pad_item):\n",
    "    if len(itemlist)>=length:\n",
    "        return itemlist[-length:]\n",
    "    if len(itemlist)<length:\n",
    "        temp = [pad_item] * (length-len(itemlist))\n",
    "        itemlist.extend(temp)\n",
    "        return itemlist\n",
    "    \n",
    "def to_pickled_df(data_directory, **kwargs):\n",
    "    for name, df in kwargs.items():\n",
    "        df.to_pickle(os.path.join(data_directory, name + '.df'))"
   ]
  },
  {
   "cell_type": "markdown",
   "metadata": {},
   "source": [
    "### 原始数据"
   ]
  },
  {
   "cell_type": "code",
   "execution_count": 3,
   "metadata": {},
   "outputs": [],
   "source": [
    "raw_sample_df = pd.read_csv(os.path.join(data_dir,'raw_sample.csv'))\n",
    "print(raw_sample_df.shape)\n",
    "raw_sample_df.head(5)"
   ]
  },
  {
   "cell_type": "code",
   "execution_count": 21,
   "metadata": {},
   "outputs": [
    {
     "name": "stdout",
     "output_type": "stream",
     "text": [
      "(846811, 6)\n"
     ]
    },
    {
     "data": {
      "text/html": [
       "<div>\n",
       "<style scoped>\n",
       "    .dataframe tbody tr th:only-of-type {\n",
       "        vertical-align: middle;\n",
       "    }\n",
       "\n",
       "    .dataframe tbody tr th {\n",
       "        vertical-align: top;\n",
       "    }\n",
       "\n",
       "    .dataframe thead th {\n",
       "        text-align: right;\n",
       "    }\n",
       "</style>\n",
       "<table border=\"1\" class=\"dataframe\">\n",
       "  <thead>\n",
       "    <tr style=\"text-align: right;\">\n",
       "      <th></th>\n",
       "      <th>adgroup_id</th>\n",
       "      <th>cate_id</th>\n",
       "      <th>campaign_id</th>\n",
       "      <th>customer</th>\n",
       "      <th>brand</th>\n",
       "      <th>price</th>\n",
       "    </tr>\n",
       "  </thead>\n",
       "  <tbody>\n",
       "    <tr>\n",
       "      <th>0</th>\n",
       "      <td>63133</td>\n",
       "      <td>6406</td>\n",
       "      <td>83237</td>\n",
       "      <td>1</td>\n",
       "      <td>95471.0</td>\n",
       "      <td>170.00</td>\n",
       "    </tr>\n",
       "    <tr>\n",
       "      <th>1</th>\n",
       "      <td>313401</td>\n",
       "      <td>6406</td>\n",
       "      <td>83237</td>\n",
       "      <td>1</td>\n",
       "      <td>87331.0</td>\n",
       "      <td>199.00</td>\n",
       "    </tr>\n",
       "    <tr>\n",
       "      <th>2</th>\n",
       "      <td>248909</td>\n",
       "      <td>392</td>\n",
       "      <td>83237</td>\n",
       "      <td>1</td>\n",
       "      <td>32233.0</td>\n",
       "      <td>38.00</td>\n",
       "    </tr>\n",
       "    <tr>\n",
       "      <th>3</th>\n",
       "      <td>208458</td>\n",
       "      <td>392</td>\n",
       "      <td>83237</td>\n",
       "      <td>1</td>\n",
       "      <td>174374.0</td>\n",
       "      <td>139.00</td>\n",
       "    </tr>\n",
       "    <tr>\n",
       "      <th>4</th>\n",
       "      <td>110847</td>\n",
       "      <td>7211</td>\n",
       "      <td>135256</td>\n",
       "      <td>2</td>\n",
       "      <td>145952.0</td>\n",
       "      <td>32.99</td>\n",
       "    </tr>\n",
       "  </tbody>\n",
       "</table>\n",
       "</div>"
      ],
      "text/plain": [
       "   adgroup_id  cate_id  campaign_id  customer     brand   price\n",
       "0       63133     6406        83237         1   95471.0  170.00\n",
       "1      313401     6406        83237         1   87331.0  199.00\n",
       "2      248909      392        83237         1   32233.0   38.00\n",
       "3      208458      392        83237         1  174374.0  139.00\n",
       "4      110847     7211       135256         2  145952.0   32.99"
      ]
     },
     "execution_count": 21,
     "metadata": {},
     "output_type": "execute_result"
    }
   ],
   "source": [
    "ad_feature = pd.read_csv(os.path.join(data_dir,'ad_feature.csv'))\n",
    "print(ad_feature.shape)\n",
    "ad_feature.head(5)"
   ]
  },
  {
   "cell_type": "markdown",
   "metadata": {},
   "source": [
    "### 处理数据"
   ]
  },
  {
   "cell_type": "code",
   "execution_count": 22,
   "metadata": {},
   "outputs": [
    {
     "data": {
      "text/html": [
       "<div>\n",
       "<style scoped>\n",
       "    .dataframe tbody tr th:only-of-type {\n",
       "        vertical-align: middle;\n",
       "    }\n",
       "\n",
       "    .dataframe tbody tr th {\n",
       "        vertical-align: top;\n",
       "    }\n",
       "\n",
       "    .dataframe thead th {\n",
       "        text-align: right;\n",
       "    }\n",
       "</style>\n",
       "<table border=\"1\" class=\"dataframe\">\n",
       "  <thead>\n",
       "    <tr style=\"text-align: right;\">\n",
       "      <th></th>\n",
       "      <th>time_stamp</th>\n",
       "      <th>adgroup_id</th>\n",
       "      <th>clk</th>\n",
       "      <th>cate_id</th>\n",
       "      <th>session_id</th>\n",
       "    </tr>\n",
       "  </thead>\n",
       "  <tbody>\n",
       "    <tr>\n",
       "      <th>0</th>\n",
       "      <td>1494137644</td>\n",
       "      <td>1</td>\n",
       "      <td>0</td>\n",
       "      <td>9025</td>\n",
       "      <td>5817381494137644</td>\n",
       "    </tr>\n",
       "    <tr>\n",
       "      <th>1</th>\n",
       "      <td>1494638778</td>\n",
       "      <td>3</td>\n",
       "      <td>0</td>\n",
       "      <td>5998</td>\n",
       "      <td>4498181494638778</td>\n",
       "    </tr>\n",
       "    <tr>\n",
       "      <th>2</th>\n",
       "      <td>1494650879</td>\n",
       "      <td>4</td>\n",
       "      <td>0</td>\n",
       "      <td>7958</td>\n",
       "      <td>9148361494650879</td>\n",
       "    </tr>\n",
       "    <tr>\n",
       "      <th>3</th>\n",
       "      <td>1494651029</td>\n",
       "      <td>5</td>\n",
       "      <td>0</td>\n",
       "      <td>7958</td>\n",
       "      <td>9148361494651029</td>\n",
       "    </tr>\n",
       "    <tr>\n",
       "      <th>4</th>\n",
       "      <td>1494302958</td>\n",
       "      <td>8</td>\n",
       "      <td>0</td>\n",
       "      <td>1626</td>\n",
       "      <td>3999071494302958</td>\n",
       "    </tr>\n",
       "  </tbody>\n",
       "</table>\n",
       "</div>"
      ],
      "text/plain": [
       "   time_stamp  adgroup_id  clk  cate_id        session_id\n",
       "0  1494137644           1    0     9025  5817381494137644\n",
       "1  1494638778           3    0     5998  4498181494638778\n",
       "2  1494650879           4    0     7958  9148361494650879\n",
       "3  1494651029           5    0     7958  9148361494651029\n",
       "4  1494302958           8    0     1626  3999071494302958"
      ]
     },
     "execution_count": 22,
     "metadata": {},
     "output_type": "execute_result"
    }
   ],
   "source": [
    "info_df = pd.merge(left=raw_sample_df,right=ad_feature,how=\"left\",left_on=\"adgroup_id\",right_on=\"adgroup_id\")\n",
    "info_df['session_id'] = info_df['user'].astype(str) + info_df['time_stamp'].astype(str)\n",
    "info_df = info_df[['time_stamp','adgroup_id','clk','cate_id','session_id']]\n",
    "info_df.head(5)"
   ]
  },
  {
   "cell_type": "code",
   "execution_count": 23,
   "metadata": {},
   "outputs": [
    {
     "name": "stdout",
     "output_type": "stream",
     "text": [
      "(25553046, 5)\n"
     ]
    },
    {
     "data": {
      "text/html": [
       "<div>\n",
       "<style scoped>\n",
       "    .dataframe tbody tr th:only-of-type {\n",
       "        vertical-align: middle;\n",
       "    }\n",
       "\n",
       "    .dataframe tbody tr th {\n",
       "        vertical-align: top;\n",
       "    }\n",
       "\n",
       "    .dataframe thead th {\n",
       "        text-align: right;\n",
       "    }\n",
       "</style>\n",
       "<table border=\"1\" class=\"dataframe\">\n",
       "  <thead>\n",
       "    <tr style=\"text-align: right;\">\n",
       "      <th></th>\n",
       "      <th>time_stamp</th>\n",
       "      <th>adgroup_id</th>\n",
       "      <th>clk</th>\n",
       "      <th>cate_id</th>\n",
       "      <th>session_id</th>\n",
       "    </tr>\n",
       "  </thead>\n",
       "  <tbody>\n",
       "    <tr>\n",
       "      <th>0</th>\n",
       "      <td>1494137644</td>\n",
       "      <td>1</td>\n",
       "      <td>0</td>\n",
       "      <td>9025</td>\n",
       "      <td>5817381494137644</td>\n",
       "    </tr>\n",
       "    <tr>\n",
       "      <th>1</th>\n",
       "      <td>1494638778</td>\n",
       "      <td>3</td>\n",
       "      <td>0</td>\n",
       "      <td>5998</td>\n",
       "      <td>4498181494638778</td>\n",
       "    </tr>\n",
       "    <tr>\n",
       "      <th>2</th>\n",
       "      <td>1494650879</td>\n",
       "      <td>4</td>\n",
       "      <td>0</td>\n",
       "      <td>7958</td>\n",
       "      <td>9148361494650879</td>\n",
       "    </tr>\n",
       "    <tr>\n",
       "      <th>3</th>\n",
       "      <td>1494651029</td>\n",
       "      <td>5</td>\n",
       "      <td>0</td>\n",
       "      <td>7958</td>\n",
       "      <td>9148361494651029</td>\n",
       "    </tr>\n",
       "    <tr>\n",
       "      <th>4</th>\n",
       "      <td>1494302958</td>\n",
       "      <td>8</td>\n",
       "      <td>0</td>\n",
       "      <td>1626</td>\n",
       "      <td>3999071494302958</td>\n",
       "    </tr>\n",
       "  </tbody>\n",
       "</table>\n",
       "</div>"
      ],
      "text/plain": [
       "   time_stamp  adgroup_id  clk  cate_id        session_id\n",
       "0  1494137644           1    0     9025  5817381494137644\n",
       "1  1494638778           3    0     5998  4498181494638778\n",
       "2  1494650879           4    0     7958  9148361494650879\n",
       "3  1494651029           5    0     7958  9148361494651029\n",
       "4  1494302958           8    0     1626  3999071494302958"
      ]
     },
     "execution_count": 23,
     "metadata": {},
     "output_type": "execute_result"
    }
   ],
   "source": [
    "info_df['valid_session'] = info_df.session_id.map(info_df.groupby('session_id')['adgroup_id'].size() > 2)\n",
    "sample_info_df = info_df.loc[info_df.valid_session].drop('valid_session', axis=1)\n",
    "print(sample_info_df.shape)\n",
    "sample_info_df.head(5)"
   ]
  },
  {
   "cell_type": "markdown",
   "metadata": {},
   "source": [
    "### 按照时间排序"
   ]
  },
  {
   "cell_type": "code",
   "execution_count": 24,
   "metadata": {},
   "outputs": [],
   "source": [
    "sample_info_df = sample_info_df.sort_values(by=['session_id','time_stamp'])"
   ]
  },
  {
   "cell_type": "markdown",
   "metadata": {},
   "source": [
    "### 划分数据"
   ]
  },
  {
   "cell_type": "code",
   "execution_count": 25,
   "metadata": {},
   "outputs": [],
   "source": [
    "total_ids=sample_info_df.session_id.unique()\n",
    "np.random.shuffle(total_ids)\n",
    "\n",
    "fractions = np.array([0.8, 0.1, 0.1])\n",
    "# split into 3 parts\n",
    "train_ids, val_ids, test_ids = np.array_split(\n",
    "    total_ids, (fractions[:-1].cumsum() * len(total_ids)).astype(int))\n",
    "\n",
    "train_sessions=sample_info_df[sample_info_df['session_id'].isin(train_ids)]\n",
    "val_sessions=sample_info_df[sample_info_df['session_id'].isin(val_ids)]\n",
    "test_sessions=sample_info_df[sample_info_df['session_id'].isin(test_ids)]\n"
   ]
  },
  {
   "cell_type": "markdown",
   "metadata": {},
   "source": [
    "### replay_buffer"
   ]
  },
  {
   "cell_type": "code",
   "execution_count": 26,
   "metadata": {},
   "outputs": [],
   "source": [
    "length=20\n",
    "\n",
    "# reply_buffer = pd.DataFrame(columns=['state','action','reward','next_state','is_done'])\n",
    "# sampled_sessions=pd.read_pickle(os.path.join(data_directory, 'sampled_sessions.df'))\n",
    "item_ids=sample_info_df.adgroup_id.unique()\n",
    "category_ids=sample_info_df.cate_id.unique()\n",
    "\n",
    "pad_item=len(item_ids)\n",
    "pad_category=len(category_ids)\n",
    "\n",
    "# train_sessions = pd.read_pickle(os.path.join(data_directory, 'sampled_train.df'))\n",
    "groups=train_sessions.groupby('session_id')\n",
    "ids=train_sessions.session_id.unique()\n",
    "\n",
    "state, len_state, action, true_item, is_click, next_state, len_next_state, is_done = [], [], [], [], [], [], [], []\n",
    "\n",
    "for id in ids:\n",
    "    group=groups.get_group(id)\n",
    "    history=[]\n",
    "    for index, row in group.iterrows():\n",
    "        s=list(history)\n",
    "        len_state.append(length if len(s)>=length else 1 if len(s)==0 else len(s))\n",
    "        s=pad_history(s,length,pad_item)\n",
    "        a=row['cate_id']\n",
    "        is_c=row['clk']\n",
    "        tmp_true_item = row['adgroup_id']\n",
    "        state.append(s)\n",
    "        action.append(a)\n",
    "        true_item.append(tmp_true_item)\n",
    "        is_click.append(is_c)\n",
    "        history.append(row['adgroup_id'])\n",
    "        next_s=list(history)\n",
    "        len_next_state.append(length if len(next_s)>=length else 1 if len(next_s)==0 else len(next_s))\n",
    "        next_s=pad_history(next_s,length,pad_item)\n",
    "        next_state.append(next_s)\n",
    "        is_done.append(False)\n",
    "    is_done[-1]=True\n",
    "\n",
    "dic={'state':state,'len_state':len_state,'action':action,'is_click':is_click,'next_state':next_state,'len_next_states':len_next_state,'is_done':is_done,'true_item':true_item}\n",
    "\n",
    "reply_buffer=pd.DataFrame(data=dic)\n",
    "to_pickled_df(data_dir, replay_buffer=reply_buffer)\n",
    "\n",
    "dic={'state_size':[length],'item_num':[pad_item], 'category_num':[pad_category]}\n",
    "data_statis=pd.DataFrame(data=dic)\n",
    "to_pickled_df(data_dir,data_statis=data_statis)"
   ]
  },
  {
   "cell_type": "code",
   "execution_count": 27,
   "metadata": {},
   "outputs": [],
   "source": [
    "to_pickled_df(data_dir, sampled_train=train_sessions)\n",
    "to_pickled_df(data_dir, sampled_val=val_sessions)\n",
    "to_pickled_df(data_dir,sampled_test=test_sessions)"
   ]
  },
  {
   "cell_type": "markdown",
   "metadata": {},
   "source": [
    "### optional"
   ]
  },
  {
   "cell_type": "code",
   "execution_count": 17,
   "metadata": {},
   "outputs": [
    {
     "data": {
      "text/plain": [
       "0"
      ]
     },
     "execution_count": 17,
     "metadata": {},
     "output_type": "execute_result"
    }
   ],
   "source": [
    "os.system('rm ./data/*.df')"
   ]
  },
  {
   "cell_type": "code",
   "execution_count": null,
   "metadata": {},
   "outputs": [],
   "source": []
  }
 ],
 "metadata": {
  "kernelspec": {
   "display_name": "Python 3 (ipykernel)",
   "language": "python",
   "name": "python3"
  },
  "language_info": {
   "codemirror_mode": {
    "name": "ipython",
    "version": 3
   },
   "file_extension": ".py",
   "mimetype": "text/x-python",
   "name": "python",
   "nbconvert_exporter": "python",
   "pygments_lexer": "ipython3",
   "version": "3.8.10"
  }
 },
 "nbformat": 4,
 "nbformat_minor": 4
}
